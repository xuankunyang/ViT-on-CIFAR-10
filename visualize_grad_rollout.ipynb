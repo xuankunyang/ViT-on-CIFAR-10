{
 "cells": [
  {
   "cell_type": "code",
   "execution_count": 28,
   "id": "ccd82f37",
   "metadata": {},
   "outputs": [],
   "source": [
    "import typing\n",
    "import io\n",
    "import os\n",
    "\n",
    "import torch\n",
    "import numpy as np\n",
    "import cv2\n",
    "import matplotlib.pyplot as plt\n",
    "\n",
    "from urllib.request import urlretrieve\n",
    "\n",
    "from PIL import Image\n",
    "from torchvision import transforms\n",
    "\n",
    "from models.model_final import VisionTransformer, CONFIGS\n",
    "from torchvision.datasets import CIFAR10"
   ]
  },
  {
   "cell_type": "code",
   "execution_count": null,
   "id": "5768d0f3",
   "metadata": {},
   "outputs": [
    {
     "name": "stdout",
     "output_type": "stream",
     "text": [
      "Files already downloaded and verified\n"
     ]
    },
    {
     "data": {
      "image/png": "[encoded data removed]",
      "text/plain": [
       "<Figure size 640x480 with 1 Axes>"
      ]
     },
     "metadata": {},
     "output_type": "display_data"
    },
    {
     "name": "stdout",
     "output_type": "stream",
     "text": [
      "torch.Size([3, 32, 32])\n"
     ]
    }
   ],
   "source": [
    "raw_dataset = CIFAR10(root='./data', train=False, download=True)\n",
    "classes = raw_dataset.classes\n",
    "\n",
    "transform = transforms.Compose([\n",
    "        transforms.Resize((32, 32)),\n",
    "        transforms.ToTensor(),\n",
    "        transforms.Normalize(mean=[0.5, 0.5, 0.5], std=[0.5, 0.5, 0.5]),\n",
    "    ])\n",
    "\n",
    "image_idx = 1\n",
    "\n",
    "x = transform(raw_dataset[image_idx][0])\n",
    "\n",
    "img = x.permute(1, 2, 0)  # 将 CHW 转换为 HWC\n",
    "\n",
    "img = img * 0.5 + 0.5  # 逆归一化（从 [-1, 1] 到 [0, 1]）\n",
    "\n",
    "plt.title(classes[raw_dataset[1][image_idx]])\n",
    "plt.imshow(img)\n",
    "plt.axis(\"off\")\n",
    "plt.show()\n",
    "\n",
    "print(x.shape)"
   ]
  },
  {
   "cell_type": "code",
   "execution_count": null,
   "id": "6816e3f1",
   "metadata": {},
   "outputs": [
    {
     "name": "stdout",
     "output_type": "stream",
     "text": [
      "Loaded fine-tuned model from /home/sichongjie/sichongjie-sub/ViT_torch/output_final/cifar10_No_3_checkpoint.bin\n"
     ]
    },
    {
     "name": "stderr",
     "output_type": "stream",
     "text": [
      "/tmp/ipykernel_1653085/3051229643.py:5: FutureWarning: You are using `torch.load` with `weights_only=False` (the current default value), which uses the default pickle module implicitly. It is possible to construct malicious pickle data which will execute arbitrary code during unpickling (See https://github.com/pytorch/pytorch/blob/main/SECURITY.md#untrusted-models for more details). In a future release, the default value for `weights_only` will be flipped to `True`. This limits the functions that could be executed during unpickling. Arbitrary objects will no longer be allowed to be loaded via this mode unless they are explicitly allowlisted by the user via `torch.serialization.add_safe_globals`. We recommend you start setting `weights_only=True` for any use case where you don't have full control of the loaded file. Please open an issue on GitHub for any issues related to this experimental feature.\n",
      "  state_dict = torch.load(checkpoint_path, map_location=\"cpu\")  # 加载权重文件\n"
     ]
    },
    {
     "data": {
      "text/plain": [
       "VisionTransformer(\n",
       "  (transformer): Transformer(\n",
       "    (embeddings): Embeddings(\n",
       "      (hybrid_model): ResNet_2(\n",
       "        (block0): Sequential(\n",
       "          (0): Conv2d(3, 64, kernel_size=(7, 7), stride=(2, 2), padding=(3, 3))\n",
       "          (1): BatchNorm2d(64, eps=1e-05, momentum=0.1, affine=True, track_running_stats=True)\n",
       "          (2): ReLU()\n",
       "        )\n",
       "        (block1): Sequential(\n",
       "          (0): Residual(\n",
       "            (conv1): Conv2d(64, 256, kernel_size=(3, 3), stride=(2, 2), padding=(1, 1))\n",
       "            (conv2): Conv2d(256, 256, kernel_size=(3, 3), stride=(1, 1), padding=(1, 1))\n",
       "            (conv3): Conv2d(64, 256, kernel_size=(1, 1), stride=(2, 2))\n",
       "            (bn1): BatchNorm2d(256, eps=1e-05, momentum=0.1, affine=True, track_running_stats=True)\n",
       "            (bn2): BatchNorm2d(256, eps=1e-05, momentum=0.1, affine=True, track_running_stats=True)\n",
       "          )\n",
       "          (1): Residual(\n",
       "            (conv1): Conv2d(256, 256, kernel_size=(3, 3), stride=(1, 1), padding=(1, 1))\n",
       "            (conv2): Conv2d(256, 256, kernel_size=(3, 3), stride=(1, 1), padding=(1, 1))\n",
       "            (bn1): BatchNorm2d(256, eps=1e-05, momentum=0.1, affine=True, track_running_stats=True)\n",
       "            (bn2): BatchNorm2d(256, eps=1e-05, momentum=0.1, affine=True, track_running_stats=True)\n",
       "          )\n",
       "        )\n",
       "      )\n",
       "      (patch_embeddings): Conv2d(256, 384, kernel_size=(1, 1), stride=(1, 1))\n",
       "      (dropout): Dropout(p=0.01, inplace=False)\n",
       "    )\n",
       "    (encoder): Encoder(\n",
       "      (layer): ModuleList(\n",
       "        (0-7): 8 x Block(\n",
       "          (attention_norm): LayerNorm((384,), eps=1e-06, elementwise_affine=True)\n",
       "          (ffn_norm): LayerNorm((384,), eps=1e-06, elementwise_affine=True)\n",
       "          (ffn): Mlp(\n",
       "            (fc1): Linear(in_features=384, out_features=384, bias=True)\n",
       "            (fc2): Linear(in_features=384, out_features=384, bias=True)\n",
       "            (dropout): Dropout(p=0.01, inplace=False)\n",
       "          )\n",
       "          (attn): Attention(\n",
       "            (query): Linear(in_features=384, out_features=384, bias=True)\n",
       "            (key): Linear(in_features=384, out_features=384, bias=True)\n",
       "            (value): Linear(in_features=384, out_features=384, bias=True)\n",
       "            (out): Linear(in_features=384, out_features=384, bias=True)\n",
       "            (attn_dropout): Dropout(p=0.01, inplace=False)\n",
       "            (proj_dropout): Dropout(p=0.01, inplace=False)\n",
       "            (softmax): Softmax(dim=-1)\n",
       "          )\n",
       "        )\n",
       "      )\n",
       "      (encoder_norm): LayerNorm((384,), eps=1e-06, elementwise_affine=True)\n",
       "    )\n",
       "  )\n",
       "  (head): Linear(in_features=384, out_features=10, bias=True)\n",
       ")"
      ]
     },
     "execution_count": 30,
     "metadata": {},
     "output_type": "execute_result"
    }
   ],
   "source": [
    "config = CONFIGS[\"ViT-Ours_Final\"]\n",
    "\n",
    "model = VisionTransformer(config, num_classes=10, vis=True)\n",
    "checkpoint_path = \"/home/sichongjie/sichongjie-sub/ViT_torch/output_final/cifar10_No_3_checkpoint.bin\" \n",
    "state_dict = torch.load(checkpoint_path, map_location=\"cpu\")  # 加载权重文件\n",
    "model.load_state_dict(state_dict)  # 加载模型参数\n",
    "print(f\"Loaded fine-tuned model from {checkpoint_path}\")\n",
    "model.eval()"
   ]
  },
  {
   "cell_type": "code",
   "execution_count": 39,
   "id": "7cb46ce0",
   "metadata": {},
   "outputs": [],
   "source": [
    "from grad_rollout import VITAttentionGradRollout\n",
    "\n",
    "grad_rollout = VITAttentionGradRollout(model, discard_ratio=0.9)\n",
    "mask = grad_rollout(x.unsqueeze(0), category_index=raw_dataset[1][image_idx])"
   ]
  },
  {
   "cell_type": "code",
   "execution_count": 32,
   "id": "f0b0bb1a",
   "metadata": {},
   "outputs": [],
   "source": [
    "def show_mask_on_image(img, mask):\n",
    "    img = np.float32(img) / 255\n",
    "    heatmap = cv2.applyColorMap(np.uint8(255 * mask), cv2.COLORMAP_JET)\n",
    "    heatmap = np.float32(heatmap) / 255\n",
    "    cam = heatmap + np.float32(img)\n",
    "    cam = cam / np.max(cam)\n",
    "    return np.uint8(255 * cam)"
   ]
  },
  {
   "cell_type": "code",
   "execution_count": 33,
   "id": "551b158d",
   "metadata": {},
   "outputs": [],
   "source": [
    "name = classes[raw_dataset[1][image_idx]]"
   ]
  },
  {
   "cell_type": "code",
   "execution_count": 40,
   "id": "97404260",
   "metadata": {},
   "outputs": [
    {
     "name": "stderr",
     "output_type": "stream",
     "text": [
      "/tmp/ipykernel_1653085/1913104919.py:10: DeprecationWarning: __array__ implementation doesn't accept a copy keyword, so passing copy=False failed. __array__ must implement 'dtype' and 'copy' keyword arguments. To learn more, see the migration guide https://numpy.org/devdocs/numpy_2_0_migration_guide.html#adapting-to-changes-in-the-copy-keyword\n",
      "  np_img = np.array(img)[:, :, ::-1]  # Convert RGB to BGR for OpenCV\n"
     ]
    },
    {
     "data": {
      "image/png": "[encoded data removed]",
      "text/plain": [
       "<Figure size 1000x500 with 2 Axes>"
      ]
     },
     "metadata": {},
     "output_type": "display_data"
    }
   ],
   "source": [
    "import matplotlib.pyplot as plt\n",
    "import numpy as np\n",
    "import cv2\n",
    "import os\n",
    "\n",
    "# Ensure output directory exists\n",
    "\n",
    "\n",
    "# Get the image and class name\n",
    "np_img = np.array(img)[:, :, ::-1]  # Convert RGB to BGR for OpenCV\n",
    "mask = cv2.resize(mask, (np_img.shape[1], np_img.shape[0]))  # Resize mask to match image dimensions\n",
    "\n",
    "# Scale image to [0, 255] for show_mask_on_image\n",
    "np_img = (np_img * 255).astype(np.float32)  # Scale from [0, 1] to [0, 255]\n",
    "cam = show_mask_on_image(np_img, mask)  # Apply heatmap\n",
    "\n",
    "# Convert BGR to RGB for Matplotlib\n",
    "cam_rgb = cam[:, :, ::-1]\n",
    "np_img_rgb = np_img[:, :, ::-1]\n",
    "\n",
    "# Visualize using Matplotlib\n",
    "plt.figure(figsize=(10, 5))\n",
    "\n",
    "plt.subplot(1, 2, 1)\n",
    "plt.title(\"Input Image\")\n",
    "plt.imshow(np_img_rgb.astype(np.uint8))\n",
    "plt.axis(\"off\")\n",
    "\n",
    "plt.subplot(1, 2, 2)\n",
    "plt.title(f\"GradRollout Attention: {name}\")\n",
    "plt.imshow(cam_rgb)\n",
    "plt.axis(\"off\")\n",
    "\n",
    "plt.tight_layout()\n",
    "plt.show()\n",
    "\n"
   ]
  }
 ],
 "metadata": {
  "kernelspec": {
   "display_name": "tiv",
   "language": "python",
   "name": "python3"
  },
  "language_info": {
   "codemirror_mode": {
    "name": "ipython",
    "version": 3
   },
   "file_extension": ".py",
   "mimetype": "text/x-python",
   "name": "python",
   "nbconvert_exporter": "python",
   "pygments_lexer": "ipython3",
   "version": "3.10.16"
  }
 },
 "nbformat": 4,
 "nbformat_minor": 5
}
