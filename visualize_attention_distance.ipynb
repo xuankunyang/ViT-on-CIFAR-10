{
 "cells": [
  {
   "cell_type": "code",
   "execution_count": 1,
   "id": "a8849168",
   "metadata": {},
   "outputs": [],
   "source": [
    "from torchvision import transforms\n",
    "import torch\n",
    "\n",
    "import matplotlib.pyplot as plt\n",
    "from PIL import Image\n",
    "from torchvision.datasets import CIFAR10\n",
    "\n",
    "from models.model_final import VisionTransformer, CONFIGS"
   ]
  },
  {
   "cell_type": "code",
   "execution_count": null,
   "id": "1985f5b3",
   "metadata": {},
   "outputs": [
    {
     "name": "stdout",
     "output_type": "stream",
     "text": [
      "Loaded fine-tuned model from /home/sichongjie/sichongjie-sub/ViT_torch/output_final/cifar10_No_3_checkpoint.bin\n"
     ]
    },
    {
     "name": "stderr",
     "output_type": "stream",
     "text": [
      "/tmp/ipykernel_1650678/3051229643.py:5: FutureWarning: You are using `torch.load` with `weights_only=False` (the current default value), which uses the default pickle module implicitly. It is possible to construct malicious pickle data which will execute arbitrary code during unpickling (See https://github.com/pytorch/pytorch/blob/main/SECURITY.md#untrusted-models for more details). In a future release, the default value for `weights_only` will be flipped to `True`. This limits the functions that could be executed during unpickling. Arbitrary objects will no longer be allowed to be loaded via this mode unless they are explicitly allowlisted by the user via `torch.serialization.add_safe_globals`. We recommend you start setting `weights_only=True` for any use case where you don't have full control of the loaded file. Please open an issue on GitHub for any issues related to this experimental feature.\n",
      "  state_dict = torch.load(checkpoint_path, map_location=\"cpu\")  # 加载权重文件\n"
     ]
    },
    {
     "data": {
      "text/plain": [
       "VisionTransformer(\n",
       "  (transformer): Transformer(\n",
       "    (embeddings): Embeddings(\n",
       "      (hybrid_model): ResNet_2(\n",
       "        (block0): Sequential(\n",
       "          (0): Conv2d(3, 64, kernel_size=(7, 7), stride=(2, 2), padding=(3, 3))\n",
       "          (1): BatchNorm2d(64, eps=1e-05, momentum=0.1, affine=True, track_running_stats=True)\n",
       "          (2): ReLU()\n",
       "        )\n",
       "        (block1): Sequential(\n",
       "          (0): Residual(\n",
       "            (conv1): Conv2d(64, 256, kernel_size=(3, 3), stride=(2, 2), padding=(1, 1))\n",
       "            (conv2): Conv2d(256, 256, kernel_size=(3, 3), stride=(1, 1), padding=(1, 1))\n",
       "            (conv3): Conv2d(64, 256, kernel_size=(1, 1), stride=(2, 2))\n",
       "            (bn1): BatchNorm2d(256, eps=1e-05, momentum=0.1, affine=True, track_running_stats=True)\n",
       "            (bn2): BatchNorm2d(256, eps=1e-05, momentum=0.1, affine=True, track_running_stats=True)\n",
       "          )\n",
       "          (1): Residual(\n",
       "            (conv1): Conv2d(256, 256, kernel_size=(3, 3), stride=(1, 1), padding=(1, 1))\n",
       "            (conv2): Conv2d(256, 256, kernel_size=(3, 3), stride=(1, 1), padding=(1, 1))\n",
       "            (bn1): BatchNorm2d(256, eps=1e-05, momentum=0.1, affine=True, track_running_stats=True)\n",
       "            (bn2): BatchNorm2d(256, eps=1e-05, momentum=0.1, affine=True, track_running_stats=True)\n",
       "          )\n",
       "        )\n",
       "      )\n",
       "      (patch_embeddings): Conv2d(256, 384, kernel_size=(1, 1), stride=(1, 1))\n",
       "      (dropout): Dropout(p=0.01, inplace=False)\n",
       "    )\n",
       "    (encoder): Encoder(\n",
       "      (layer): ModuleList(\n",
       "        (0-7): 8 x Block(\n",
       "          (attention_norm): LayerNorm((384,), eps=1e-06, elementwise_affine=True)\n",
       "          (ffn_norm): LayerNorm((384,), eps=1e-06, elementwise_affine=True)\n",
       "          (ffn): Mlp(\n",
       "            (fc1): Linear(in_features=384, out_features=384, bias=True)\n",
       "            (fc2): Linear(in_features=384, out_features=384, bias=True)\n",
       "            (dropout): Dropout(p=0.01, inplace=False)\n",
       "          )\n",
       "          (attn): Attention(\n",
       "            (query): Linear(in_features=384, out_features=384, bias=True)\n",
       "            (key): Linear(in_features=384, out_features=384, bias=True)\n",
       "            (value): Linear(in_features=384, out_features=384, bias=True)\n",
       "            (out): Linear(in_features=384, out_features=384, bias=True)\n",
       "            (attn_dropout): Dropout(p=0.01, inplace=False)\n",
       "            (proj_dropout): Dropout(p=0.01, inplace=False)\n",
       "            (softmax): Softmax(dim=-1)\n",
       "          )\n",
       "        )\n",
       "      )\n",
       "      (encoder_norm): LayerNorm((384,), eps=1e-06, elementwise_affine=True)\n",
       "    )\n",
       "  )\n",
       "  (head): Linear(in_features=384, out_features=10, bias=True)\n",
       ")"
      ]
     },
     "execution_count": 2,
     "metadata": {},
     "output_type": "execute_result"
    }
   ],
   "source": [
    "config = CONFIGS[\"ViT-Ours_Final\"]\n",
    "\n",
    "model = VisionTransformer(config, num_classes=10, vis=True)\n",
    "checkpoint_path = \"/home/sichongjie/sichongjie-sub/ViT_torch/output_final/cifar10_No_3_checkpoint.bin\"  \n",
    "state_dict = torch.load(checkpoint_path, map_location=\"cpu\")  # 加载权重文件\n",
    "model.load_state_dict(state_dict)  # 加载模型参数\n",
    "print(f\"Loaded fine-tuned model from {checkpoint_path}\")\n",
    "model.eval()"
   ]
  },
  {
   "cell_type": "code",
   "execution_count": null,
   "id": "9beced40",
   "metadata": {},
   "outputs": [
    {
     "name": "stdout",
     "output_type": "stream",
     "text": [
      "Files already downloaded and verified\n"
     ]
    },
    {
     "data": {
      "image/png": "[encoded data removed]",
      "text/plain": [
       "<Figure size 640x480 with 1 Axes>"
      ]
     },
     "metadata": {},
     "output_type": "display_data"
    },
    {
     "name": "stdout",
     "output_type": "stream",
     "text": [
      "torch.Size([3, 32, 32])\n"
     ]
    }
   ],
   "source": [
    "raw_dataset = CIFAR10(root='./data', train=False, download=True)\n",
    "classes = raw_dataset.classes\n",
    "\n",
    "transform = transforms.Compose([\n",
    "        transforms.Resize((32, 32)),\n",
    "        transforms.ToTensor(),\n",
    "        transforms.Normalize(mean=[0.5, 0.5, 0.5], std=[0.5, 0.5, 0.5]),\n",
    "    ])\n",
    "\n",
    "image_idx = 1\n",
    "\n",
    "x = transform(raw_dataset[image_idx][0])\n",
    "\n",
    "img = x.permute(1, 2, 0)  # 将 CHW 转换为 HWC\n",
    "\n",
    "img = img * 0.5 + 0.5  # 逆归一化（从 [-1, 1] 到 [0, 1]）\n",
    "\n",
    "plt.title(classes[image_idx])\n",
    "plt.imshow(img)\n",
    "plt.axis(\"off\")\n",
    "plt.show()\n",
    "\n",
    "print(x.shape)"
   ]
  },
  {
   "cell_type": "code",
   "execution_count": 4,
   "id": "ab21e1db",
   "metadata": {},
   "outputs": [],
   "source": [
    "logits, att_mat_orig = model(x.unsqueeze(0))"
   ]
  },
  {
   "cell_type": "code",
   "execution_count": 5,
   "id": "a5730496",
   "metadata": {},
   "outputs": [],
   "source": [
    "# Copyright 2022 Google LLC.\n",
    "# SPDX-License-Identifier: Apache-2.0\n",
    "# Author: Maithra Raghu <maithra@google.com>\n",
    "import numpy as np\n",
    "\n",
    "def compute_distance_matrix(patch_size, num_patches, length):\n",
    "  \"\"\"Helper function to compute distance matrix.\"\"\"\n",
    "\n",
    "  distance_matrix = np.zeros((num_patches, num_patches))\n",
    "\n",
    "  for i in range(num_patches):\n",
    "    for j in range(num_patches):\n",
    "      if i == j: # zero distance\n",
    "        continue\n",
    "\n",
    "      xi, yi = (int(i/length)), (i % length)\n",
    "      xj, yj = (int(j/length)), (j % length)\n",
    "\n",
    "      distance_matrix[i, j] = patch_size*np.linalg.norm([xi - xj, yi - yj])\n",
    "  \n",
    "  return distance_matrix\n",
    "\n",
    "\n",
    "\n",
    "def compute_mean_attention_dist(patch_size, attention_weights):\n",
    "  num_patches = attention_weights.shape[-1]\n",
    "  length = int(np.sqrt(num_patches))\n",
    "  assert (length**2 == num_patches), (\"Num patches is not perfect square\")\n",
    "\n",
    "  distance_matrix = compute_distance_matrix(patch_size, num_patches, length)\n",
    "  h, w = distance_matrix.shape\n",
    "\n",
    "  distance_matrix = distance_matrix.reshape((1, 1, h, w))\n",
    "  attention_weights = attention_weights.detach().numpy()\n",
    "  mean_distances = attention_weights * distance_matrix\n",
    "  mean_distances = np.sum(mean_distances, axis=-1) # sum along last axis to get average distance per token\n",
    "  mean_distances = np.mean(mean_distances, axis=-1) # now average across all the tokes\n",
    "\n",
    "  return mean_distances"
   ]
  },
  {
   "cell_type": "code",
   "execution_count": 6,
   "id": "ef215147",
   "metadata": {},
   "outputs": [
    {
     "name": "stdout",
     "output_type": "stream",
     "text": [
      "8\n"
     ]
    }
   ],
   "source": [
    "print(len(att_mat_orig))"
   ]
  },
  {
   "cell_type": "code",
   "execution_count": 7,
   "id": "92f7e501",
   "metadata": {},
   "outputs": [
    {
     "name": "stdout",
     "output_type": "stream",
     "text": [
      "torch.Size([12, 64, 64])\n"
     ]
    }
   ],
   "source": [
    "attn_weights = att_mat_orig[0][0]\n",
    "print(attn_weights[:, 1:, 1:].shape)"
   ]
  },
  {
   "cell_type": "code",
   "execution_count": 8,
   "id": "58cfc269",
   "metadata": {},
   "outputs": [
    {
     "data": {
      "text/plain": [
       "array([[3.67558477, 3.88734893, 4.27190856, 4.22941332, 3.47143009,\n",
       "        3.75403964, 3.93782797, 3.15211161, 3.84492486, 3.49154965,\n",
       "        3.58215233, 4.0715237 ]])"
      ]
     },
     "execution_count": 8,
     "metadata": {},
     "output_type": "execute_result"
    }
   ],
   "source": [
    "compute_mean_attention_dist(1, attn_weights[:, 1:, 1:])"
   ]
  }
 ],
 "metadata": {
  "kernelspec": {
   "display_name": "tiv",
   "language": "python",
   "name": "python3"
  },
  "language_info": {
   "codemirror_mode": {
    "name": "ipython",
    "version": 3
   },
   "file_extension": ".py",
   "mimetype": "text/x-python",
   "name": "python",
   "nbconvert_exporter": "python",
   "pygments_lexer": "ipython3",
   "version": "3.10.16"
  }
 },
 "nbformat": 4,
 "nbformat_minor": 5
}
