{
 "cells": [
  {
   "cell_type": "code",
   "execution_count": 1,
   "id": "3cacc53a",
   "metadata": {},
   "outputs": [],
   "source": [
    "from torchvision import transforms\n",
    "import torch\n",
    "\n",
    "import matplotlib.pyplot as plt\n",
    "from PIL import Image\n",
    "from torchvision.datasets import CIFAR10\n",
    "\n",
    "from models.model_final import VisionTransformer, CONFIGS"
   ]
  },
  {
   "cell_type": "code",
   "execution_count": null,
   "id": "14658b08",
   "metadata": {},
   "outputs": [
    {
     "name": "stdout",
     "output_type": "stream",
     "text": [
      "Loaded fine-tuned model from /home/sichongjie/sichongjie-sub/ViT_torch/output_final/cifar10_No_24_checkpoint.bin\n"
     ]
    },
    {
     "name": "stderr",
     "output_type": "stream",
     "text": [
      "/tmp/ipykernel_1779450/4289613789.py:5: FutureWarning: You are using `torch.load` with `weights_only=False` (the current default value), which uses the default pickle module implicitly. It is possible to construct malicious pickle data which will execute arbitrary code during unpickling (See https://github.com/pytorch/pytorch/blob/main/SECURITY.md#untrusted-models for more details). In a future release, the default value for `weights_only` will be flipped to `True`. This limits the functions that could be executed during unpickling. Arbitrary objects will no longer be allowed to be loaded via this mode unless they are explicitly allowlisted by the user via `torch.serialization.add_safe_globals`. We recommend you start setting `weights_only=True` for any use case where you don't have full control of the loaded file. Please open an issue on GitHub for any issues related to this experimental feature.\n",
      "  state_dict = torch.load(checkpoint_path, map_location=\"cpu\")  # 加载权重文件\n"
     ]
    },
    {
     "data": {
      "text/plain": [
       "VisionTransformer(\n",
       "  (transformer): Transformer(\n",
       "    (embeddings): Embeddings(\n",
       "      (patch_embeddings): Conv2d(3, 384, kernel_size=(4, 4), stride=(4, 4))\n",
       "      (dropout): Dropout(p=0.0, inplace=False)\n",
       "    )\n",
       "    (encoder): Encoder(\n",
       "      (layer): ModuleList(\n",
       "        (0-7): 8 x Block(\n",
       "          (attention_norm): LayerNorm((384,), eps=1e-06, elementwise_affine=True)\n",
       "          (ffn_norm): LayerNorm((384,), eps=1e-06, elementwise_affine=True)\n",
       "          (ffn): Mlp(\n",
       "            (fc1): Linear(in_features=384, out_features=384, bias=True)\n",
       "            (fc2): Linear(in_features=384, out_features=384, bias=True)\n",
       "            (dropout): Dropout(p=0.0, inplace=False)\n",
       "          )\n",
       "          (attn): Attention(\n",
       "            (query): Linear(in_features=384, out_features=384, bias=True)\n",
       "            (key): Linear(in_features=384, out_features=384, bias=True)\n",
       "            (value): Linear(in_features=384, out_features=384, bias=True)\n",
       "            (out): Linear(in_features=384, out_features=384, bias=True)\n",
       "            (attn_dropout): Dropout(p=0.0, inplace=False)\n",
       "            (proj_dropout): Dropout(p=0.0, inplace=False)\n",
       "            (softmax): Softmax(dim=-1)\n",
       "          )\n",
       "        )\n",
       "      )\n",
       "      (encoder_norm): LayerNorm((384,), eps=1e-06, elementwise_affine=True)\n",
       "    )\n",
       "  )\n",
       "  (head): Linear(in_features=384, out_features=10, bias=True)\n",
       ")"
      ]
     },
     "execution_count": 2,
     "metadata": {},
     "output_type": "execute_result"
    }
   ],
   "source": [
    "config = CONFIGS[\"ViT-Ours_res0\"]\n",
    "\n",
    "model = VisionTransformer(config, num_classes=10)\n",
    "checkpoint_path = \"/home/sichongjie/sichongjie-sub/ViT_torch/output_final/cifar10_No_24_checkpoint.bin\" \n",
    "state_dict = torch.load(checkpoint_path, map_location=\"cpu\")  # 加载权重文件\n",
    "model.load_state_dict(state_dict)  # 加载模型参数\n",
    "print(f\"Loaded fine-tuned model from {checkpoint_path}\")\n",
    "model.eval()"
   ]
  },
  {
   "cell_type": "code",
   "execution_count": 3,
   "id": "762fc6e1",
   "metadata": {},
   "outputs": [
    {
     "name": "stdout",
     "output_type": "stream",
     "text": [
      "torch.Size([384, 3, 4, 4])\n"
     ]
    }
   ],
   "source": [
    "# 假设 embedding_layer 是模型的嵌入层\n",
    "embedding_weights = model.transformer.embeddings.patch_embeddings.weight.data  # Shape: [D, C, P, P]\n",
    "print(embedding_weights.shape)"
   ]
  },
  {
   "cell_type": "code",
   "execution_count": 4,
   "id": "75f68298",
   "metadata": {},
   "outputs": [],
   "source": [
    "from sklearn.decomposition import PCA\n",
    "\n",
    "C = 3\n",
    "P = 4\n",
    "\n",
    "# 展平权重矩阵\n",
    "weights_flattened = embedding_weights.view(embedding_weights.size(0), -1).cpu().numpy()  # Shape: [D, C*P*P]\n",
    "\n",
    "# 使用 PCA 提取主成分\n",
    "pca = PCA(n_components=28)  # 提取前 28 个主成分\n",
    "principal_components = pca.fit_transform(weights_flattened)  # Shape: [28, C*P*P]\n",
    "\n",
    "# 恢复为原始形状（假设补丁大小为 P x P x C）\n",
    "principal_components_images = principal_components.reshape(-1, C, P, P)  # Shape: [28, C, P, P]"
   ]
  },
  {
   "cell_type": "code",
   "execution_count": null,
   "id": "a1851c4a",
   "metadata": {},
   "outputs": [
    {
     "data": {
      "image/png": "[encoded data removed]",
      "text/plain": [
       "<Figure size 1200x800 with 28 Axes>"
      ]
     },
     "metadata": {},
     "output_type": "display_data"
    }
   ],
   "source": [
    "import matplotlib.pyplot as plt\n",
    "import numpy as np\n",
    "\n",
    "def normalize_image(image):\n",
    "    min_val = image.min()\n",
    "    max_val = image.max()\n",
    "    return (image - min_val) / (max_val - min_val + 1e-5)  # 加1e-5避免除以0\n",
    "\n",
    "# 归一化 principal_components_images\n",
    "normalized_images = []\n",
    "for img in principal_components_images:\n",
    "    if C == 1:  # 单通道\n",
    "        normalized_images.append(normalize_image(img[0]))  # Shape: [P, P]\n",
    "    else:  # 多通道\n",
    "        normalized_images.append(np.stack([normalize_image(channel) for channel in img], axis=0))\n",
    "normalized_images = np.array(normalized_images)\n",
    "\n",
    "n_rows = 4  \n",
    "n_cols = 7  \n",
    "fig, axes = plt.subplots(n_rows, n_cols, figsize=(12, 8))\n",
    "\n",
    "im = None  \n",
    "for i, ax in enumerate(axes.flat):\n",
    "    if i < normalized_images.shape[0]:\n",
    "        image = normalized_images[i]\n",
    "        if C == 1:\n",
    "            im = ax.imshow(image, cmap='gray')  \n",
    "        else:\n",
    "            im = ax.imshow(np.transpose(image, (1, 2, 0)))  \n",
    "        ax.axis('off')  \n",
    "    else:\n",
    "        ax.axis('off')  \n",
    "\n",
    "if C == 1:  # 只有单通道图像才添加 colorbar\n",
    "    cbar = fig.colorbar(im, ax=axes, orientation='vertical', fraction=0.02, pad=0.02)\n",
    "    cbar.set_label('Normalized Value')\n",
    "\n",
    "plt.tight_layout()\n",
    "plt.show()\n"
   ]
  }
 ],
 "metadata": {
  "kernelspec": {
   "display_name": "tiv",
   "language": "python",
   "name": "python3"
  },
  "language_info": {
   "codemirror_mode": {
    "name": "ipython",
    "version": 3
   },
   "file_extension": ".py",
   "mimetype": "text/x-python",
   "name": "python",
   "nbconvert_exporter": "python",
   "pygments_lexer": "ipython3",
   "version": "3.10.16"
  }
 },
 "nbformat": 4,
 "nbformat_minor": 5
}
