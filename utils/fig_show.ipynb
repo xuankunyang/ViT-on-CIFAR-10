{
 "cells": [
  {
   "cell_type": "code",
   "execution_count": 337,
   "id": "683437cc",
   "metadata": {},
   "outputs": [],
   "source": [
    "import os\n",
    "import torch\n",
    "import numpy as np\n",
    "import matplotlib.pyplot as plt\n",
    "from torchvision.datasets import CIFAR10\n",
    "from torchvision import transforms\n",
    "from torchvision.transforms import AutoAugment, AutoAugmentPolicy, RandAugment\n",
    "import torchvision\n",
    "from PIL import Image\n",
    "\n",
    "from aug_utils_show import RandomCropPaste, CutMix, MixUp  # 自定义增强方法"
   ]
  },
  {
   "cell_type": "code",
   "execution_count": null,
   "id": "995f7251",
   "metadata": {},
   "outputs": [
    {
     "name": "stdout",
     "output_type": "stream",
     "text": [
      "Files already downloaded and verified\n"
     ]
    }
   ],
   "source": [
    "save_dir = \"augment_images_all\"\n",
    "os.makedirs(save_dir, exist_ok=True)\n",
    "\n",
    "# CIFAR-10 原始图像（不使用 transform）\n",
    "raw_dataset = CIFAR10(root='./data', train=False, download=True)\n",
    "classes = raw_dataset.classes\n",
    "\n",
    "resize = transforms.Resize((32, 32))\n",
    "to_tensor = transforms.ToTensor()\n",
    "to_pil = transforms.ToPILImage()\n",
    "\n",
    "autoaugment = AutoAugment(policy=AutoAugmentPolicy.CIFAR10)\n",
    "randaugment = RandAugment(num_ops=4, magnitude=15)\n",
    "crop_paste = RandomCropPaste(size=32,alpha=1.0,flip_p=0.8)"
   ]
  },
  {
   "cell_type": "code",
   "execution_count": null,
   "id": "c2c4c343",
   "metadata": {},
   "outputs": [],
   "source": [
    "def imshow(img, label, subplot_pos, title):\n",
    "    plt.subplot(2, 3, subplot_pos)\n",
    "    plt.imshow(img)\n",
    "    plt.title(f\"{title}\\nLabel: {label}\")\n",
    "    plt.axis('off')"
   ]
  },
  {
   "cell_type": "code",
   "execution_count": null,
   "id": "2a24e5d4",
   "metadata": {},
   "outputs": [],
   "source": [
    "def imshow(img, label, subplot_pos, title):\n",
    "    plt.subplot(2, 3, subplot_pos)\n",
    "    plt.imshow(img)\n",
    "    plt.title(f\"{title}\\nLabel: {label}\")\n",
    "    plt.axis('off')\n",
    "\n",
    "for idx in range(5):\n",
    "    img, label = raw_dataset[idx]\n",
    "    label_name = classes[label]\n",
    "\n",
    "    resized_img = resize(img)\n",
    "\n",
    "    img_tensor = to_tensor(resized_img)\n",
    "\n",
    "    aa_img = autoaugment(resized_img)\n",
    "    ra_img = randaugment(resized_img)\n",
    "    rcp_img_tensor = crop_paste(img_tensor)\n",
    "    rcp_img = to_pil(rcp_img_tensor)\n",
    "\n",
    "    tensor_img = to_pil(img_tensor)\n",
    "\n",
    "    plt.figure(figsize=(12, 6))\n",
    "    imshow(img, label_name, 1, \"Original\")\n",
    "    imshow(resized_img, label_name, 2, \"Resized\")\n",
    "    imshow(aa_img, label_name, 3, \"AutoAugment\")\n",
    "    imshow(ra_img, label_name, 4, \"RandAugment\")\n",
    "    imshow(rcp_img, label_name, 5, \"RandomCropPaste\")\n",
    "    imshow(tensor_img, label_name, 6, \"ToTensor\")\n",
    "\n",
    "    plt.suptitle(f\"Image {idx+1} - Class: {label_name}\", fontsize=14)\n",
    "    plt.tight_layout()\n",
    "    plt.savefig(os.path.join(save_dir, f'aug_compare_{idx+1}_{label_name}.png'))\n",
    "    plt.close()"
   ]
  },
  {
   "cell_type": "code",
   "execution_count": null,
   "id": "c52bc7bc",
   "metadata": {},
   "outputs": [],
   "source": [
    "cutmix = CutMix(size=32, beta=0.8)\n",
    "mixup = MixUp(alpha=2.5)\n",
    "\n",
    "batch_imgs = torch.stack([to_tensor(resize(raw_dataset[i][0])) for i in range(8)])\n",
    "batch_labels = torch.tensor([raw_dataset[i][1] for i in range(8)])"
   ]
  },
  {
   "cell_type": "code",
   "execution_count": null,
   "id": "79ef5bb9",
   "metadata": {},
   "outputs": [],
   "source": [
    "def save_batch_images(batch, labels, title, filename):\n",
    "    grid = torchvision.utils.make_grid(batch, nrow=4)\n",
    "    npimg = grid.permute(1, 2, 0).numpy()\n",
    "    \n",
    "    if isinstance(labels[0], (int, torch.Tensor)):\n",
    "        label_names = [classes[int(l)] for l in labels]\n",
    "    else:\n",
    "        label_names = labels\n",
    "\n",
    "    caption = \", \".join(label_names[:4]) + \" ...\"\n",
    "    \n",
    "    plt.figure(figsize=(8, 4))\n",
    "    plt.imshow(npimg)\n",
    "    plt.title(f\"{title}\\nLabels: {caption}\")\n",
    "    plt.axis('off')\n",
    "    plt.savefig(os.path.join(save_dir, filename))\n",
    "    plt.close()\n"
   ]
  },
  {
   "cell_type": "code",
   "execution_count": 343,
   "id": "d0649d1a",
   "metadata": {},
   "outputs": [],
   "source": [
    "save_batch_images(batch_imgs, batch_labels, \"Original Batch\", \"batch_original.png\")\n",
    "\n",
    "cutmix_imgs, label_a, label_b, lam = cutmix((batch_imgs.clone(), batch_labels.clone()))\n",
    "combined_labels_cutmix = [f\"{classes[a]} + {classes[b]}\" for a, b in zip(label_a, label_b)]\n",
    "save_batch_images(cutmix_imgs, combined_labels_cutmix, f\"CutMix (λ={lam:.2f})\", \"batch_cutmix.png\")\n",
    "\n",
    "mixup_imgs, label_a, label_b, lam2 = mixup((batch_imgs.clone(), batch_labels.clone()))\n",
    "combined_labels_mixup = [f\"{classes[a]} + {classes[b]}\" for a, b in zip(label_a, label_b)]\n",
    "save_batch_images(mixup_imgs, combined_labels_mixup, f\"MixUp (λ={lam2:.2f})\", \"batch_mixup.png\")"
   ]
  }
 ],
 "metadata": {
  "kernelspec": {
   "display_name": "tiv",
   "language": "python",
   "name": "python3"
  },
  "language_info": {
   "codemirror_mode": {
    "name": "ipython",
    "version": 3
   },
   "file_extension": ".py",
   "mimetype": "text/x-python",
   "name": "python",
   "nbconvert_exporter": "python",
   "pygments_lexer": "ipython3",
   "version": "3.10.16"
  }
 },
 "nbformat": 4,
 "nbformat_minor": 5
}
